{
 "cells": [
  {
   "cell_type": "code",
   "execution_count": 1,
   "metadata": {
    "collapsed": false
   },
   "outputs": [],
   "source": [
    "import pandas as pd\n",
    "import requests\n",
    "from bs4 import BeautifulSoup"
   ]
  },
  {
   "cell_type": "markdown",
   "metadata": {},
   "source": [
    "## Attempt 1: Get ADP data from myfantasyleague.com dev site\n",
    "- +JSON is organized\n",
    "- +Easily accessed\n",
    "- -too much info only really need QB, RB, WR, TE, and D/ST"
   ]
  },
  {
   "cell_type": "code",
   "execution_count": 16,
   "metadata": {
    "collapsed": false
   },
   "outputs": [
    {
     "name": "stdout",
     "output_type": "stream",
     "text": [
      "  averagePick draftsSelectedIn     id maxPick minPick\n",
      "0        3.35            12777  11192     201       1\n",
      "1        5.32            13097  11201     203       1\n",
      "2        5.41            13309   8658     191       1\n",
      "3        5.73            13108   9988     172       1\n",
      "4        6.00            13230   9054     187       1\n"
     ]
    }
   ],
   "source": [
    "response = requests.get('http://football.myfantasyleague.com/2010/export?TYPE=adp&L=&W=&JSON=1')\n",
    "data = response.json()\n",
    "data = data['adp']['player']\n",
    "adp=pd.DataFrame(data)\n",
    "print adp.head()\n"
   ]
  },
  {
   "cell_type": "code",
   "execution_count": 5,
   "metadata": {
    "collapsed": false
   },
   "outputs": [
    {
     "name": "stdout",
     "output_type": "stream",
     "text": [
      "         id                   name position status team\n",
      "0      0151         Bills, Buffalo     TMWR    NaN  BUF\n",
      "1      0152    Colts, Indianapolis     TMWR    NaN  IND\n",
      "2      0153        Dolphins, Miami     TMWR    NaN  MIA\n",
      "3      0154  Patriots, New England     TMWR    NaN  NEP\n",
      "4      0155         Jets, New York     TMWR    NaN  NYJ\n",
      "5      0156    Bengals, Cincinnati     TMWR    NaN  CIN\n",
      "6      0157      Browns, Cleveland     TMWR    NaN  CLE\n",
      "7      0158      Titans, Tennessee     TMWR    NaN  TEN\n",
      "8      0159  Jaguars, Jacksonville     TMWR    NaN  JAC\n",
      "9      0160   Steelers, Pittsburgh     TMWR    NaN  PIT\n",
      "10     0161        Broncos, Denver     TMWR    NaN  DEN\n",
      "11     0162    Chiefs, Kansas City     TMWR    NaN  KCC\n",
      "12     0163       Raiders, Oakland     TMWR    NaN  OAK\n",
      "13     0164    Chargers, San Diego     TMWR    NaN  SDC\n",
      "14     0165      Seahawks, Seattle     TMWR    NaN  SEA\n",
      "15     0166        Cowboys, Dallas     TMWR    NaN  DAL\n",
      "16     0167       Giants, New York     TMWR    NaN  NYG\n",
      "17     0168   Eagles, Philadelphia     TMWR    NaN  PHI\n",
      "18     0169     Cardinals, Arizona     TMWR    NaN  ARI\n",
      "19     0170   Redskins, Washington     TMWR    NaN  WAS\n",
      "20     0171         Bears, Chicago     TMWR    NaN  CHI\n",
      "21     0172         Lions, Detroit     TMWR    NaN  DET\n",
      "22     0173     Packers, Green Bay     TMWR    NaN  GBP\n",
      "23     0174     Vikings, Minnesota     TMWR    NaN  MIN\n",
      "24     0175  Buccaneers, Tampa Bay     TMWR    NaN  TBB\n",
      "25     0176       Falcons, Atlanta     TMWR    NaN  ATL\n",
      "26     0177     Panthers, Carolina     TMWR    NaN  CAR\n",
      "27     0178        Rams, St. Louis     TMWR    NaN  STL\n",
      "28     0179    Saints, New Orleans     TMWR    NaN  NOS\n",
      "29     0180   49ers, San Francisco     TMWR    NaN  SFO\n",
      "...     ...                    ...      ...    ...  ...\n",
      "2509  12522        Patterson, Eric       CB      R  STL\n",
      "2510  12523        Coleman, Justin       CB      R  NEP\n",
      "2511  12524       Washington, Tony       WR    NaN  JAC\n",
      "2512  12525            Thomas, Joe       LB    NaN  GBP\n",
      "2513  12529          Peters, Brian       LB    NaN  HOU\n",
      "2514  12530          Delaire, Ryan       DE      R  CAR\n",
      "2515  12532              Tye, Will       TE      R  NYG\n",
      "2516  12536          Irving, David       DT      R  DAL\n",
      "2517  12539          Campbell, Dan    Coach    NaN  MIA\n",
      "2518  12541           Dye, Donteea       WR      R  TBB\n",
      "2519  12542          King, Brandon        S      R  NEP\n",
      "2520  12544      Everett, Deshazor       CB      R  WAS\n",
      "2521  12545        McDonald, Tevin        S    NaN  OAK\n",
      "2522  12547     Anderson, Jonathan       LB      R  CHI\n",
      "2523  12549         Brooks, Cariel       CB      R   FA\n",
      "2524  12554    Adjei-Barimah, Jude       CB      R  TBB\n",
      "2525  12558          Morris, James       LB    NaN  NYG\n",
      "2526  12561             Bray, Quan       WR      R  IND\n",
      "2527  12563         Longacre, Matt       DE      R  STL\n",
      "2528  12566        Johnson, Isaiah        S      R  DET\n",
      "2529  12569       Turzilli, Andrew       WR      R  TEN\n",
      "2530  12570          Glenn, Jacoby       CB      R  CHI\n",
      "2531  12571           Smith, Kevin       WR    NaN  SEA\n",
      "2532  12572        Thompson, Dylan       QB      R  SFO\n",
      "2533  12576          Jacobs, Chuck       WR    NaN   FA\n",
      "2534  12577       Krause, Jonathan       WR    NaN  PHI\n",
      "2535  12585          Brown, Daniel       WR      R  BAL\n",
      "2536  12586       Jennings, Darius       WR      R   FA\n",
      "2537  12587       Lawrence, Rashad       WR    NaN   FA\n",
      "2538  12589             Hill, Troy       CB      R  CIN\n",
      "\n",
      "[2539 rows x 5 columns]\n"
     ]
    }
   ],
   "source": [
    "response = requests.get('http://football.myfantasyleague.com/2010/export?TYPE=players&L=&W=&JSON=1')\n",
    "data = response.json()\n",
    "data = data['players']['player']\n",
    "players=pd.DataFrame(data)\n",
    "print players"
   ]
  },
  {
   "cell_type": "markdown",
   "metadata": {},
   "source": [
    "## Get weekly performance stats starting with 2010\n",
    "- only has top scorers. scrubs and bye week players do not show up\n",
    "- easily scraped and cleaned\n"
   ]
  },
  {
   "cell_type": "code",
   "execution_count": 2,
   "metadata": {
    "collapsed": false
   },
   "outputs": [
    {
     "name": "stdout",
     "output_type": "stream",
     "text": [
      "(3544, 15)\n"
     ]
    }
   ],
   "source": [
    "def get_DF_from_table(season, week):\n",
    "    url = 'http://www.thehuddle.com/stats/%s/plays_weekly.php?week=%s&pos=qb&col=FPTS&ccs=1' % (season, week)\n",
    "    response = requests.get(url)\n",
    "    soup = BeautifulSoup(response.content, 'html.parser')\n",
    "    if not soup:\n",
    "        print season\n",
    "        print week\n",
    "        pass\n",
    "    data = soup.table\n",
    "    head = data.thead.find_all('th')[5:]\n",
    "\n",
    "    headers = []\n",
    "    for th in head:\n",
    "        colname = th.a.text.strip()\n",
    "        headers.append(colname)\n",
    "\n",
    "    rows = data.tbody.find_all('tr')\n",
    "    body = []\n",
    "    for r in rows:\n",
    "        cells = r.find_all('td')\n",
    "        cur_row = []\n",
    "        for c in cells:\n",
    "            cell = c.text.strip()\n",
    "            cur_row.append(cell)\n",
    "        body.append(cur_row)\n",
    "    df2 = pd.DataFrame(body, columns = headers)\n",
    "    df2['SEASON'] = season\n",
    "    df2['WEEK'] = week\n",
    "    return df2\n",
    "\n",
    "seasons = ['2010', '2011', '2012', '2013', '2014', '2015']\n",
    "weeks = ['1','2', '3', '4', '5', '6', '7','8','9','10','11','12','13','14','15','16']\n",
    "frames =[]\n",
    "for s in seasons:\n",
    "    for w in weeks:\n",
    "        frames.append(get_DF_from_table(s, w))\n",
    "        \n",
    "result = pd.concat(frames)\n",
    "print result.shape\n"
   ]
  },
  {
   "cell_type": "code",
   "execution_count": 56,
   "metadata": {
    "collapsed": false
   },
   "outputs": [
    {
     "name": "stdout",
     "output_type": "stream",
     "text": [
      "46.74\n"
     ]
    }
   ],
   "source": [
    "def convert_name_to_lastname_first(name):\n",
    "    split = name.split(\" \")\n",
    "    converted_name = split[1] +\", \"+split[0]\n",
    "    return converted_name\n",
    "def get_adp(name):\n",
    "    name = convert_name_to_lastname_first(name)\n",
    "    player_id = players[players['name'] == name]['id']\n",
    "    player_adp = adp[adp['id'] == player_id.iloc[0][:]]\n",
    "    return player_adp.iloc[0]['averagePick']\n",
    "    \n",
    "print get_adp(\"Peyton Manning\")"
   ]
  },
  {
   "cell_type": "code",
   "execution_count": null,
   "metadata": {
    "collapsed": false
   },
   "outputs": [],
   "source": []
  },
  {
   "cell_type": "code",
   "execution_count": 83,
   "metadata": {
    "collapsed": false
   },
   "outputs": [
    {
     "ename": "AttributeError",
     "evalue": "'Series' object has no attribute 'split'",
     "output_type": "error",
     "traceback": [
      "\u001b[1;31m---------------------------------------------------------------------------\u001b[0m",
      "\u001b[1;31mAttributeError\u001b[0m                            Traceback (most recent call last)",
      "\u001b[1;32m<ipython-input-83-9d86e035c5c3>\u001b[0m in \u001b[0;36m<module>\u001b[1;34m()\u001b[0m\n\u001b[0;32m     25\u001b[0m     \u001b[1;32mprint\u001b[0m \u001b[0mdf3\u001b[0m\u001b[1;33m.\u001b[0m\u001b[0mhead\u001b[0m\u001b[1;33m(\u001b[0m\u001b[1;33m)\u001b[0m\u001b[1;33m\u001b[0m\u001b[0m\n\u001b[0;32m     26\u001b[0m \u001b[1;33m\u001b[0m\u001b[0m\n\u001b[1;32m---> 27\u001b[1;33m \u001b[0mget_df_from_adp_table\u001b[0m\u001b[1;33m(\u001b[0m\u001b[1;34m'2010'\u001b[0m\u001b[1;33m)\u001b[0m\u001b[1;33m\u001b[0m\u001b[0m\n\u001b[0m",
      "\u001b[1;32m<ipython-input-83-9d86e035c5c3>\u001b[0m in \u001b[0;36mget_df_from_adp_table\u001b[1;34m(season)\u001b[0m\n\u001b[0;32m     22\u001b[0m     \u001b[0mdf3\u001b[0m \u001b[1;33m=\u001b[0m \u001b[0mpd\u001b[0m\u001b[1;33m.\u001b[0m\u001b[0mDataFrame\u001b[0m\u001b[1;33m(\u001b[0m\u001b[0mbody\u001b[0m\u001b[1;33m,\u001b[0m \u001b[0mcolumns\u001b[0m \u001b[1;33m=\u001b[0m \u001b[0mheaders\u001b[0m\u001b[1;33m)\u001b[0m\u001b[1;33m\u001b[0m\u001b[0m\n\u001b[0;32m     23\u001b[0m \u001b[1;33m\u001b[0m\u001b[0m\n\u001b[1;32m---> 24\u001b[1;33m     \u001b[0mdf3\u001b[0m\u001b[1;33m[\u001b[0m\u001b[1;34m'Team'\u001b[0m\u001b[1;33m]\u001b[0m \u001b[1;33m=\u001b[0m \u001b[0mdf3\u001b[0m\u001b[1;33m.\u001b[0m\u001b[0mPlayer\u001b[0m\u001b[1;33m.\u001b[0m\u001b[0msplit\u001b[0m\u001b[1;33m(\u001b[0m\u001b[1;34m' '\u001b[0m\u001b[1;33m)\u001b[0m\u001b[1;33m[\u001b[0m\u001b[1;36m2\u001b[0m\u001b[1;33m]\u001b[0m\u001b[1;33m\u001b[0m\u001b[0m\n\u001b[0m\u001b[0;32m     25\u001b[0m     \u001b[1;32mprint\u001b[0m \u001b[0mdf3\u001b[0m\u001b[1;33m.\u001b[0m\u001b[0mhead\u001b[0m\u001b[1;33m(\u001b[0m\u001b[1;33m)\u001b[0m\u001b[1;33m\u001b[0m\u001b[0m\n\u001b[0;32m     26\u001b[0m \u001b[1;33m\u001b[0m\u001b[0m\n",
      "\u001b[1;32m/home/scott/anaconda2/lib/python2.7/site-packages/pandas/core/generic.pyc\u001b[0m in \u001b[0;36m__getattr__\u001b[1;34m(self, name)\u001b[0m\n\u001b[0;32m   2244\u001b[0m                 \u001b[1;32mreturn\u001b[0m \u001b[0mself\u001b[0m\u001b[1;33m[\u001b[0m\u001b[0mname\u001b[0m\u001b[1;33m]\u001b[0m\u001b[1;33m\u001b[0m\u001b[0m\n\u001b[0;32m   2245\u001b[0m             raise AttributeError(\"'%s' object has no attribute '%s'\" %\n\u001b[1;32m-> 2246\u001b[1;33m                                  (type(self).__name__, name))\n\u001b[0m\u001b[0;32m   2247\u001b[0m \u001b[1;33m\u001b[0m\u001b[0m\n\u001b[0;32m   2248\u001b[0m     \u001b[1;32mdef\u001b[0m \u001b[0m__setattr__\u001b[0m\u001b[1;33m(\u001b[0m\u001b[0mself\u001b[0m\u001b[1;33m,\u001b[0m \u001b[0mname\u001b[0m\u001b[1;33m,\u001b[0m \u001b[0mvalue\u001b[0m\u001b[1;33m)\u001b[0m\u001b[1;33m:\u001b[0m\u001b[1;33m\u001b[0m\u001b[0m\n",
      "\u001b[1;31mAttributeError\u001b[0m: 'Series' object has no attribute 'split'"
     ]
    }
   ],
   "source": [
    "def get_df_from_adp_table(season):\n",
    "    url = 'http://football.myfantasyleague.com/%s/adp?COUNT=500&POS=*&CUTOFF=5&FRANCHISES=12&IS_PPR=0&IS_KEEPER=1&IS_MOCK=0&TIME=' % season\n",
    "    response = requests.get(url)\n",
    "    soup = BeautifulSoup(response.content, 'html.parser')\n",
    "    data = soup.find_all('table', {'class':'report nocaption'})\n",
    "    head = data[0].find_all('th')[1:]\n",
    "    headers = []\n",
    "    for h in head:\n",
    "        headers.append(h.text.strip())\n",
    "    \n",
    "    rows = data[0].find_all('tr')[1:]\n",
    "    \n",
    "    body = []\n",
    "    for r in rows:\n",
    "        cells = r.find_all('td')[1:]\n",
    "        cur_row = []\n",
    "        for c in cells:\n",
    "            cell = c.text.strip()\n",
    "            cur_row.append(cell)\n",
    "        body.append(cur_row)\n",
    "    \n",
    "    df3 = pd.DataFrame(body, columns = headers)\n",
    "    \n",
    "    df3['Team'] = df3.Player.split(' ')[2]\n",
    "    print df3.head()\n",
    "    \n",
    "get_df_from_adp_table('2010')"
   ]
  },
  {
   "cell_type": "code",
   "execution_count": null,
   "metadata": {
    "collapsed": true
   },
   "outputs": [],
   "source": []
  }
 ],
 "metadata": {
  "kernelspec": {
   "display_name": "Python 2",
   "language": "python",
   "name": "python2"
  },
  "language_info": {
   "codemirror_mode": {
    "name": "ipython",
    "version": 2
   },
   "file_extension": ".py",
   "mimetype": "text/x-python",
   "name": "python",
   "nbconvert_exporter": "python",
   "pygments_lexer": "ipython2",
   "version": "2.7.11"
  }
 },
 "nbformat": 4,
 "nbformat_minor": 0
}
