{
 "cells": [
  {
   "cell_type": "code",
   "execution_count": 63,
   "metadata": {
    "collapsed": true
   },
   "outputs": [],
   "source": [
    "%matplotlib inline\n",
    "import requests\n",
    "import pandas as pd\n",
    "import statsmodels.api as sm\n",
    "import matplotlib.pyplot as plt\n",
    "from scipy import stats\n",
    "import numpy as nd\n",
    "import math\n",
    "from scipy.stats import gamma\n"
   ]
  },
  {
   "cell_type": "code",
   "execution_count": 65,
   "metadata": {
    "collapsed": false
   },
   "outputs": [
    {
     "name": "stdout",
     "output_type": "stream",
     "text": [
      "   Unnamed: 0          PLAYER  NFL  PLAYS  FPTS  RUN  RYD  RTD  PASS  CMP  \\\n",
      "0           0  Peyton Manning  IND     57    34    0    0    0    57   40   \n",
      "1           1      Jay Cutler  CHI     40    29    5   22    0    35   23   \n",
      "2           2   Carson Palmer  CIN     54    26    4    9    0    50   34   \n",
      "3           3     Eli Manning  NYG     34    25    4   -2    0    30   20   \n",
      "4           4       Tom Brady   NE     35    25    0    0    0    35   25   \n",
      "\n",
      "   PYDS  PTD  FUM  INT  SEASON  WEEK         Fullname    ADP  \n",
      "0   433    3    0    0    2010     1  Manning, Peyton  12.27  \n",
      "1   372    2    1    1    2010     1      Cutler, Jay  73.34  \n",
      "2   345    2    0    1    2010     1   Palmer, Carson  79.79  \n",
      "3   263    3    0    3    2010     1     Manning, Eli  81.71  \n",
      "4   258    3    0    0    2010     1       Brady, Tom  20.01  \n"
     ]
    }
   ],
   "source": [
    "stats= pd.read_csv('ffb_stats.csv')\n",
    "adps = pd.read_csv('nfl adp - Sheet7.csv')\n",
    "stats = stats.dropna()\n",
    "adps = adps.dropna()\n",
    "stats.ADP = stats.ADP.astype(float)\n",
    "stats.FPTS = stats.FPTS.astype(int)\n",
    "print stats.head()\n"
   ]
  },
  {
   "cell_type": "code",
   "execution_count": 68,
   "metadata": {
    "collapsed": false
   },
   "outputs": [
    {
     "name": "stdout",
     "output_type": "stream",
     "text": [
      "17.0046511628 10.1242272923 2.82105582909 6.02776130391\n"
     ]
    },
    {
     "data": {
      "image/png": "[encoded data removed]",
      "text/plain": [
       "<matplotlib.figure.Figure at 0x7fa3d4e0a9d0>"
      ]
     },
     "metadata": {},
     "output_type": "display_data"
    }
   ],
   "source": [
    "adp_u_10 = stats[(stats.ADP > 5) & (stats.ADP < 8)]\n",
    "mean =  adp_u_10.FPTS.describe()['mean']\n",
    "std  =  adp_u_10.FPTS.describe()['std']\n",
    "\n",
    "a = math.pow(mean/std,2)\n",
    "b = math.pow(std,2)/mean\n",
    "print mean, std, a, b\n",
    "rv = gamma(a,0,b)\n",
    "x = nd.linspace(0,50) \n",
    "h = plt.plot(x, rv.pdf(x), lw=2)"
   ]
  },
  {
   "cell_type": "code",
   "execution_count": 32,
   "metadata": {
    "collapsed": false
   },
   "outputs": [
    {
     "data": {
      "text/plain": [
       "<matplotlib.axes._subplots.AxesSubplot at 0x7fa3d4362d50>"
      ]
     },
     "execution_count": 32,
     "metadata": {},
     "output_type": "execute_result"
    },
    {
     "data": {
      "image/png": "[encoded data removed]",
      "text/plain": [
       "<matplotlib.figure.Figure at 0x7fa3d42f8350>"
      ]
     },
     "metadata": {},
     "output_type": "display_data"
    }
   ],
   "source": [
    "adp_u_10.FPTS.plot(kind = 'hist')"
   ]
  },
  {
   "cell_type": "code",
   "execution_count": null,
   "metadata": {
    "collapsed": true
   },
   "outputs": [],
   "source": []
  }
 ],
 "metadata": {
  "kernelspec": {
   "display_name": "Python 2",
   "language": "python",
   "name": "python2"
  },
  "language_info": {
   "codemirror_mode": {
    "name": "ipython",
    "version": 2
   },
   "file_extension": ".py",
   "mimetype": "text/x-python",
   "name": "python",
   "nbconvert_exporter": "python",
   "pygments_lexer": "ipython2",
   "version": "2.7.11"
  }
 },
 "nbformat": 4,
 "nbformat_minor": 0
}
