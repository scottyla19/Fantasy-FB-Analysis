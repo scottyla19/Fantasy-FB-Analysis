{
 "cells": [
  {
   "cell_type": "code",
   "execution_count": 1,
   "metadata": {
    "collapsed": false
   },
   "outputs": [],
   "source": [
    "%matplotlib inline\n",
    "import pandas as pd\n",
    "import requests\n",
    "from bs4 import BeautifulSoup"
   ]
  },
  {
   "cell_type": "markdown",
   "metadata": {},
   "source": [
    "## Attempt 1: Get ADP data from myfantasyleague.com dev site\n",
    "- +JSON is organized\n",
    "- +Easily accessed\n",
    "- -too much info only really need QB, RB, WR, TE, and D/ST"
   ]
  },
  {
   "cell_type": "code",
   "execution_count": 2,
   "metadata": {
    "collapsed": false
   },
   "outputs": [],
   "source": [
    "response = requests.get('http://football.myfantasyleague.com/2010/export?TYPE=adp&L=&W=&JSON=1')\n",
    "data = response.json()\n",
    "data = data['adp']['player']\n",
    "adp=pd.DataFrame(data)\n",
    "\n"
   ]
  },
  {
   "cell_type": "code",
   "execution_count": 3,
   "metadata": {
    "collapsed": false
   },
   "outputs": [],
   "source": [
    "response = requests.get('http://football.myfantasyleague.com/2010/export?TYPE=players&L=&W=&JSON=1')\n",
    "data = response.json()\n",
    "data = data['players']['player']\n",
    "players=pd.DataFrame(data)\n"
   ]
  },
  {
   "cell_type": "markdown",
   "metadata": {},
   "source": [
    "## Get weekly performance stats starting with 2010\n",
    "- only has top scorers. scrubs and bye week players do not show up\n",
    "- easily scraped and cleaned\n"
   ]
  },
  {
   "cell_type": "code",
   "execution_count": 4,
   "metadata": {
    "collapsed": false
   },
   "outputs": [
    {
     "name": "stdout",
     "output_type": "stream",
     "text": [
      "(36752, 15)\n"
     ]
    }
   ],
   "source": [
    "def get_DF_from_table(season, week, pos):\n",
    "    url = 'http://www.thehuddle.com/stats/%s/plays_weekly.php?week=%s&pos=%s&col=FPTS&ccs=1' % (season, week, pos)\n",
    "    response = requests.get(url)\n",
    "    soup = BeautifulSoup(response.content, 'html.parser')\n",
    "    if not soup:\n",
    "        pass\n",
    "    data = soup.table\n",
    "    head = data.thead.find_all('th')[5:]\n",
    "\n",
    "    headers = []\n",
    "    for th in head:\n",
    "        colname = th.a.text.strip()\n",
    "        headers.append(colname)\n",
    "\n",
    "    rows = data.tbody.find_all('tr')\n",
    "    body = []\n",
    "    for r in rows:\n",
    "        cells = r.find_all('td')\n",
    "        cur_row = []\n",
    "        for c in cells:\n",
    "            cell = c.text.strip()\n",
    "            cur_row.append(cell)\n",
    "        body.append(cur_row)\n",
    "    df2 = pd.DataFrame(body, columns = headers)\n",
    "    df2['SEASON'] = season\n",
    "    df2['WEEK'] = week\n",
    "    return df2\n",
    "\n",
    "seasons = ['2010', '2011', '2012', '2013', '2014', '2015']\n",
    "weeks = ['1','2', '3', '4', '5', '6', '7','8','9','10','11','12','13','14','15','16']\n",
    "pos = ['QB', 'RB', 'WR','TE']\n",
    "frames =[]\n",
    "for s in seasons:\n",
    "    for w in weeks:\n",
    "        for p in pos:\n",
    "            frames.append(get_DF_from_table(s, w, p))\n",
    "        \n",
    "result = pd.concat(frames)\n",
    "\n",
    "print result.shape\n"
   ]
  },
  {
   "cell_type": "code",
   "execution_count": 5,
   "metadata": {
    "collapsed": false
   },
   "outputs": [
    {
     "name": "stdout",
     "output_type": "stream",
     "text": [
      "(36752, 15)\n"
     ]
    }
   ],
   "source": [
    "result = result.reset_index(drop=True)\n",
    "print result.shape\n",
    "result.to_csv('ffb_stats.csv')"
   ]
  },
  {
   "cell_type": "code",
   "execution_count": 6,
   "metadata": {
    "collapsed": false
   },
   "outputs": [],
   "source": [
    "def convert_name_to_lastname_first(name):\n",
    "    split = name.split(\" \")\n",
    "    converted_name = split[1] +\", \"+split[0]\n",
    "    return converted_name\n",
    "def get_adp(name, season):\n",
    "    player_adp = adp_df[(adp_df['Fullname'] == name)& (adp_df['Season'] == season)]\n",
    "    if player_adp.empty:\n",
    "        return None\n",
    "    return player_adp.iloc[0]['Avg. Pick']\n",
    "    \n"
   ]
  },
  {
   "cell_type": "code",
   "execution_count": 7,
   "metadata": {
    "collapsed": false
   },
   "outputs": [],
   "source": [
    "adp_df = pd.read_csv('nfl adp - Sheet7.csv')\n",
    "adp_df['Fullname'] = adp_df['Lastname'] + \" \" + adp_df['FirstName']\n"
   ]
  },
  {
   "cell_type": "code",
   "execution_count": 8,
   "metadata": {
    "collapsed": false
   },
   "outputs": [
    {
     "name": "stdout",
     "output_type": "stream",
     "text": [
      "           PLAYER  NFL PLAYS FPTS RUN RYD RTD PASS CMP PYDS PTD FUM INT  \\\n",
      "0  Peyton Manning  IND    57   34   0   0   0   57  40  433   3   0   0   \n",
      "1      Jay Cutler  CHI    40   29   5  22   0   35  23  372   2   1   1   \n",
      "2   Carson Palmer  CIN    54   26   4   9   0   50  34  345   2   0   1   \n",
      "3     Eli Manning  NYG    34   25   4  -2   0   30  20  263   3   0   3   \n",
      "4       Tom Brady   NE    35   25   0   0   0   35  25  258   3   0   0   \n",
      "\n",
      "  SEASON WEEK         Fullname    ADP  \n",
      "0   2010    1  Manning, Peyton  12.27  \n",
      "1   2010    1      Cutler, Jay  73.34  \n",
      "2   2010    1   Palmer, Carson  79.79  \n",
      "3   2010    1     Manning, Eli  81.71  \n",
      "4   2010    1       Brady, Tom  20.01  \n"
     ]
    }
   ],
   "source": [
    "result['Fullname'] = result['PLAYER'].apply(convert_name_to_lastname_first)\n",
    "\n",
    "adps = []\n",
    "i = 0\n",
    "while i < result.shape[0]:\n",
    "    adps.append(get_adp(result['Fullname'][i], int(result['SEASON'][i])))\n",
    "    i = i +1\n",
    "result[\"ADP\"] = adps\n",
    "print result.head()"
   ]
  },
  {
   "cell_type": "code",
   "execution_count": 10,
   "metadata": {
    "collapsed": false
   },
   "outputs": [
    {
     "name": "stdout",
     "output_type": "stream",
     "text": [
      "                PLAYER  NFL PLAYS  FPTS RUN  RYD RTD PASS CMP PYDS  PTD FUM  \\\n",
      "13       Aaron Rodgers   GB    36    18   5    9   0   31  19  188    2   0   \n",
      "18          Drew Brees   NO    40    15   4   -6   0   36  27  237    1   0   \n",
      "39       Chris Johnson  TEN    31    27  27  142   2    4   4    8    0   0   \n",
      "52  Maurice Jones-Drew  JAC    26    11  23   98   0    3   3   15    0   0   \n",
      "53     Adrian Peterson  MIN    22    10  19   87   0    3   3   14    0   0   \n",
      "\n",
      "   INT SEASON WEEK             Fullname   ADP  \n",
      "13   2   2010    1       Rodgers, Aaron  7.44  \n",
      "18   0   2010    1          Brees, Drew  8.70  \n",
      "39   0   2010    1       Johnson, Chris  1.81  \n",
      "52   0   2010    1  Jones-Drew, Maurice  4.66  \n",
      "53   0   2010    1     Peterson, Adrian  2.47  \n"
     ]
    },
    {
     "data": {
      "text/plain": [
       "<matplotlib.axes._subplots.AxesSubplot at 0x7fd54b34d1d0>"
      ]
     },
     "execution_count": 10,
     "metadata": {},
     "output_type": "execute_result"
    },
    {
     "data": {
      "image/png": "[encoded data removed]",
      "text/plain": [
       "<matplotlib.figure.Figure at 0x7fd54ae1bd50>"
      ]
     },
     "metadata": {},
     "output_type": "display_data"
    }
   ],
   "source": [
    "result.FPTS = result.FPTS.astype(int)\n",
    "result.PTD = result.PTD.astype(int)\n",
    "result.to_csv('ffb_stats.csv')\n",
    "stuff = result[result['ADP'] <= 10]\n",
    "print stuff.head()\n",
    "stuff.plot(x='ADP', y = 'FPTS', kind='scatter')"
   ]
  }
 ],
 "metadata": {
  "kernelspec": {
   "display_name": "Python 2",
   "language": "python",
   "name": "python2"
  },
  "language_info": {
   "codemirror_mode": {
    "name": "ipython",
    "version": 2
   },
   "file_extension": ".py",
   "mimetype": "text/x-python",
   "name": "python",
   "nbconvert_exporter": "python",
   "pygments_lexer": "ipython2",
   "version": "2.7.11"
  }
 },
 "nbformat": 4,
 "nbformat_minor": 0
}
