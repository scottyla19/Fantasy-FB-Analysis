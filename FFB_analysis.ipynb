{
 "cells": [
  {
   "cell_type": "code",
   "execution_count": 1,
   "metadata": {
    "collapsed": false
   },
   "outputs": [],
   "source": [
    "import pandas as pd\n",
    "import requests\n",
    "from bs4 import BeautifulSoup"
   ]
  },
  {
   "cell_type": "markdown",
   "metadata": {},
   "source": [
    "## Attempt 1: Get ADP data from myfantasyleague.com dev site\n",
    "- +JSON is organized\n",
    "- +Easily accessed\n",
    "- -too much info only really need QB, RB, WR, TE, and D/ST"
   ]
  },
  {
   "cell_type": "code",
   "execution_count": 16,
   "metadata": {
    "collapsed": false
   },
   "outputs": [
    {
     "name": "stdout",
     "output_type": "stream",
     "text": [
      "  averagePick draftsSelectedIn     id maxPick minPick\n",
      "0        3.35            12777  11192     201       1\n",
      "1        5.32            13097  11201     203       1\n",
      "2        5.41            13309   8658     191       1\n",
      "3        5.73            13108   9988     172       1\n",
      "4        6.00            13230   9054     187       1\n"
     ]
    }
   ],
   "source": [
    "response = requests.get('http://football.myfantasyleague.com/2010/export?TYPE=adp&L=&W=&JSON=1')\n",
    "data = response.json()\n",
    "data = data['adp']['player']\n",
    "adp=pd.DataFrame(data)\n",
    "print adp.head()\n"
   ]
  },
  {
   "cell_type": "code",
   "execution_count": 5,
   "metadata": {
    "collapsed": false
   },
   "outputs": [
    {
     "name": "stdout",
     "output_type": "stream",
     "text": [
      "         id                   name position status team\n",
      "0      0151         Bills, Buffalo     TMWR    NaN  BUF\n",
      "1      0152    Colts, Indianapolis     TMWR    NaN  IND\n",
      "2      0153        Dolphins, Miami     TMWR    NaN  MIA\n",
      "3      0154  Patriots, New England     TMWR    NaN  NEP\n",
      "4      0155         Jets, New York     TMWR    NaN  NYJ\n",
      "5      0156    Bengals, Cincinnati     TMWR    NaN  CIN\n",
      "6      0157      Browns, Cleveland     TMWR    NaN  CLE\n",
      "7      0158      Titans, Tennessee     TMWR    NaN  TEN\n",
      "8      0159  Jaguars, Jacksonville     TMWR    NaN  JAC\n",
      "9      0160   Steelers, Pittsburgh     TMWR    NaN  PIT\n",
      "10     0161        Broncos, Denver     TMWR    NaN  DEN\n",
      "11     0162    Chiefs, Kansas City     TMWR    NaN  KCC\n",
      "12     0163       Raiders, Oakland     TMWR    NaN  OAK\n",
      "13     0164    Chargers, San Diego     TMWR    NaN  SDC\n",
      "14     0165      Seahawks, Seattle     TMWR    NaN  SEA\n",
      "15     0166        Cowboys, Dallas     TMWR    NaN  DAL\n",
      "16     0167       Giants, New York     TMWR    NaN  NYG\n",
      "17     0168   Eagles, Philadelphia     TMWR    NaN  PHI\n",
      "18     0169     Cardinals, Arizona     TMWR    NaN  ARI\n",
      "19     0170   Redskins, Washington     TMWR    NaN  WAS\n",
      "20     0171         Bears, Chicago     TMWR    NaN  CHI\n",
      "21     0172         Lions, Detroit     TMWR    NaN  DET\n",
      "22     0173     Packers, Green Bay     TMWR    NaN  GBP\n",
      "23     0174     Vikings, Minnesota     TMWR    NaN  MIN\n",
      "24     0175  Buccaneers, Tampa Bay     TMWR    NaN  TBB\n",
      "25     0176       Falcons, Atlanta     TMWR    NaN  ATL\n",
      "26     0177     Panthers, Carolina     TMWR    NaN  CAR\n",
      "27     0178        Rams, St. Louis     TMWR    NaN  STL\n",
      "28     0179    Saints, New Orleans     TMWR    NaN  NOS\n",
      "29     0180   49ers, San Francisco     TMWR    NaN  SFO\n",
      "...     ...                    ...      ...    ...  ...\n",
      "2509  12522        Patterson, Eric       CB      R  STL\n",
      "2510  12523        Coleman, Justin       CB      R  NEP\n",
      "2511  12524       Washington, Tony       WR    NaN  JAC\n",
      "2512  12525            Thomas, Joe       LB    NaN  GBP\n",
      "2513  12529          Peters, Brian       LB    NaN  HOU\n",
      "2514  12530          Delaire, Ryan       DE      R  CAR\n",
      "2515  12532              Tye, Will       TE      R  NYG\n",
      "2516  12536          Irving, David       DT      R  DAL\n",
      "2517  12539          Campbell, Dan    Coach    NaN  MIA\n",
      "2518  12541           Dye, Donteea       WR      R  TBB\n",
      "2519  12542          King, Brandon        S      R  NEP\n",
      "2520  12544      Everett, Deshazor       CB      R  WAS\n",
      "2521  12545        McDonald, Tevin        S    NaN  OAK\n",
      "2522  12547     Anderson, Jonathan       LB      R  CHI\n",
      "2523  12549         Brooks, Cariel       CB      R   FA\n",
      "2524  12554    Adjei-Barimah, Jude       CB      R  TBB\n",
      "2525  12558          Morris, James       LB    NaN  NYG\n",
      "2526  12561             Bray, Quan       WR      R  IND\n",
      "2527  12563         Longacre, Matt       DE      R  STL\n",
      "2528  12566        Johnson, Isaiah        S      R  DET\n",
      "2529  12569       Turzilli, Andrew       WR      R  TEN\n",
      "2530  12570          Glenn, Jacoby       CB      R  CHI\n",
      "2531  12571           Smith, Kevin       WR    NaN  SEA\n",
      "2532  12572        Thompson, Dylan       QB      R  SFO\n",
      "2533  12576          Jacobs, Chuck       WR    NaN   FA\n",
      "2534  12577       Krause, Jonathan       WR    NaN  PHI\n",
      "2535  12585          Brown, Daniel       WR      R  BAL\n",
      "2536  12586       Jennings, Darius       WR      R   FA\n",
      "2537  12587       Lawrence, Rashad       WR    NaN   FA\n",
      "2538  12589             Hill, Troy       CB      R  CIN\n",
      "\n",
      "[2539 rows x 5 columns]\n"
     ]
    }
   ],
   "source": [
    "response = requests.get('http://football.myfantasyleague.com/2010/export?TYPE=players&L=&W=&JSON=1')\n",
    "data = response.json()\n",
    "data = data['players']['player']\n",
    "players=pd.DataFrame(data)\n",
    "print players"
   ]
  },
  {
   "cell_type": "markdown",
   "metadata": {},
   "source": [
    "## Get weekly performance stats starting with 2010\n",
    "- only has top scorers. scrubs and bye week players do not show up\n",
    "- easily scraped and cleaned\n"
   ]
  },
  {
   "cell_type": "code",
   "execution_count": 2,
   "metadata": {
    "collapsed": false
   },
   "outputs": [
    {
     "name": "stdout",
     "output_type": "stream",
     "text": [
      "(3544, 15)\n"
     ]
    }
   ],
   "source": [
    "def get_DF_from_table(season, week):\n",
    "    url = 'http://www.thehuddle.com/stats/%s/plays_weekly.php?week=%s&pos=qb&col=FPTS&ccs=1' % (season, week)\n",
    "    response = requests.get(url)\n",
    "    soup = BeautifulSoup(response.content, 'html.parser')\n",
    "    if not soup:\n",
    "        print season\n",
    "        print week\n",
    "        pass\n",
    "    data = soup.table\n",
    "    head = data.thead.find_all('th')[5:]\n",
    "\n",
    "    headers = []\n",
    "    for th in head:\n",
    "        colname = th.a.text.strip()\n",
    "        headers.append(colname)\n",
    "\n",
    "    rows = data.tbody.find_all('tr')\n",
    "    body = []\n",
    "    for r in rows:\n",
    "        cells = r.find_all('td')\n",
    "        cur_row = []\n",
    "        for c in cells:\n",
    "            cell = c.text.strip()\n",
    "            cur_row.append(cell)\n",
    "        body.append(cur_row)\n",
    "    df2 = pd.DataFrame(body, columns = headers)\n",
    "    df2['SEASON'] = season\n",
    "    df2['WEEK'] = week\n",
    "    return df2\n",
    "\n",
    "seasons = ['2010', '2011', '2012', '2013', '2014', '2015']\n",
    "weeks = ['1','2', '3', '4', '5', '6', '7','8','9','10','11','12','13','14','15','16']\n",
    "frames =[]\n",
    "for s in seasons:\n",
    "    for w in weeks:\n",
    "        frames.append(get_DF_from_table(s, w))\n",
    "        \n",
    "result = pd.concat(frames)\n",
    "\n",
    "print result.shape\n"
   ]
  },
  {
   "cell_type": "code",
   "execution_count": 129,
   "metadata": {
    "collapsed": false
   },
   "outputs": [
    {
     "data": {
      "text/html": [
       "<div>\n",
       "<table border=\"1\" class=\"dataframe\">\n",
       "  <thead>\n",
       "    <tr style=\"text-align: right;\">\n",
       "      <th></th>\n",
       "      <th>PLAYER</th>\n",
       "      <th>NFL</th>\n",
       "      <th>PLAYS</th>\n",
       "      <th>FPTS</th>\n",
       "      <th>RUN</th>\n",
       "      <th>RYD</th>\n",
       "      <th>RTD</th>\n",
       "      <th>PASS</th>\n",
       "      <th>CMP</th>\n",
       "      <th>PYDS</th>\n",
       "      <th>PTD</th>\n",
       "      <th>FUM</th>\n",
       "      <th>INT</th>\n",
       "      <th>SEASON</th>\n",
       "      <th>WEEK</th>\n",
       "      <th>Fullname</th>\n",
       "    </tr>\n",
       "  </thead>\n",
       "  <tbody>\n",
       "    <tr>\n",
       "      <th>3539</th>\n",
       "      <td>Tarvaris Jackson</td>\n",
       "      <td>SEA</td>\n",
       "      <td>1</td>\n",
       "      <td>-0</td>\n",
       "      <td>1</td>\n",
       "      <td>-1</td>\n",
       "      <td>0</td>\n",
       "      <td>0</td>\n",
       "      <td>0</td>\n",
       "      <td>0</td>\n",
       "      <td>0</td>\n",
       "      <td>0</td>\n",
       "      <td>0</td>\n",
       "      <td>2015</td>\n",
       "      <td>15</td>\n",
       "      <td>Jackson, Tarvaris</td>\n",
       "    </tr>\n",
       "    <tr>\n",
       "      <th>3540</th>\n",
       "      <td>Trevor Siemian</td>\n",
       "      <td>DEN</td>\n",
       "      <td>1</td>\n",
       "      <td>-0</td>\n",
       "      <td>1</td>\n",
       "      <td>-1</td>\n",
       "      <td>0</td>\n",
       "      <td>0</td>\n",
       "      <td>0</td>\n",
       "      <td>0</td>\n",
       "      <td>0</td>\n",
       "      <td>0</td>\n",
       "      <td>0</td>\n",
       "      <td>2015</td>\n",
       "      <td>15</td>\n",
       "      <td>Siemian, Trevor</td>\n",
       "    </tr>\n",
       "    <tr>\n",
       "      <th>3541</th>\n",
       "      <td>Kellen Clemens</td>\n",
       "      <td>SD</td>\n",
       "      <td>1</td>\n",
       "      <td>-0</td>\n",
       "      <td>1</td>\n",
       "      <td>-1</td>\n",
       "      <td>0</td>\n",
       "      <td>0</td>\n",
       "      <td>0</td>\n",
       "      <td>0</td>\n",
       "      <td>0</td>\n",
       "      <td>0</td>\n",
       "      <td>0</td>\n",
       "      <td>2015</td>\n",
       "      <td>15</td>\n",
       "      <td>Clemens, Kellen</td>\n",
       "    </tr>\n",
       "    <tr>\n",
       "      <th>3542</th>\n",
       "      <td>Chase Daniel</td>\n",
       "      <td>KC</td>\n",
       "      <td>2</td>\n",
       "      <td>-0</td>\n",
       "      <td>2</td>\n",
       "      <td>-2</td>\n",
       "      <td>0</td>\n",
       "      <td>0</td>\n",
       "      <td>0</td>\n",
       "      <td>0</td>\n",
       "      <td>0</td>\n",
       "      <td>0</td>\n",
       "      <td>0</td>\n",
       "      <td>2015</td>\n",
       "      <td>15</td>\n",
       "      <td>Daniel, Chase</td>\n",
       "    </tr>\n",
       "    <tr>\n",
       "      <th>3543</th>\n",
       "      <td>Drew Stanton</td>\n",
       "      <td>ARI</td>\n",
       "      <td>3</td>\n",
       "      <td>-0</td>\n",
       "      <td>2</td>\n",
       "      <td>-2</td>\n",
       "      <td>0</td>\n",
       "      <td>1</td>\n",
       "      <td>0</td>\n",
       "      <td>0</td>\n",
       "      <td>0</td>\n",
       "      <td>0</td>\n",
       "      <td>0</td>\n",
       "      <td>2015</td>\n",
       "      <td>15</td>\n",
       "      <td>Stanton, Drew</td>\n",
       "    </tr>\n",
       "  </tbody>\n",
       "</table>\n",
       "</div>"
      ],
      "text/plain": [
       "                PLAYER  NFL PLAYS FPTS RUN RYD RTD PASS CMP PYDS PTD FUM INT  \\\n",
       "3539  Tarvaris Jackson  SEA     1   -0   1  -1   0    0   0    0   0   0   0   \n",
       "3540    Trevor Siemian  DEN     1   -0   1  -1   0    0   0    0   0   0   0   \n",
       "3541    Kellen Clemens   SD     1   -0   1  -1   0    0   0    0   0   0   0   \n",
       "3542      Chase Daniel   KC     2   -0   2  -2   0    0   0    0   0   0   0   \n",
       "3543      Drew Stanton  ARI     3   -0   2  -2   0    1   0    0   0   0   0   \n",
       "\n",
       "     SEASON WEEK           Fullname  \n",
       "3539   2015   15  Jackson, Tarvaris  \n",
       "3540   2015   15    Siemian, Trevor  \n",
       "3541   2015   15    Clemens, Kellen  \n",
       "3542   2015   15      Daniel, Chase  \n",
       "3543   2015   15      Stanton, Drew  "
      ]
     },
     "execution_count": 129,
     "metadata": {},
     "output_type": "execute_result"
    }
   ],
   "source": [
    "result = result.reset_index(drop=True)\n"
   ]
  },
  {
   "cell_type": "code",
   "execution_count": 162,
   "metadata": {
    "collapsed": false
   },
   "outputs": [],
   "source": [
    "def convert_name_to_lastname_first(name):\n",
    "    split = name.split(\" \")\n",
    "    converted_name = split[1] +\", \"+split[0]\n",
    "    return converted_name\n",
    "def get_adp(name, season):\n",
    "    player_adp = adp_df[(adp_df['Fullname'] == name)& (adp_df['Season'] == season)]\n",
    "    if player_adp.empty:\n",
    "        return None\n",
    "    return player_adp.iloc[0]['Avg. Pick']\n",
    "    \n"
   ]
  },
  {
   "cell_type": "code",
   "execution_count": 164,
   "metadata": {
    "collapsed": false
   },
   "outputs": [],
   "source": [
    "adp_df = pd.read_csv('nfl adp - Sheet7.csv')\n",
    "adp_df['Fullname'] = adp_df['Lastname'] + \" \" + adp_df['FirstName']\n"
   ]
  },
  {
   "cell_type": "code",
   "execution_count": 163,
   "metadata": {
    "collapsed": false
   },
   "outputs": [
    {
     "name": "stdout",
     "output_type": "stream",
     "text": [
      "           PLAYER  NFL PLAYS FPTS RUN RYD RTD PASS CMP PYDS PTD FUM INT  \\\n",
      "0  Peyton Manning  IND    57   34   0   0   0   57  40  433   3   0   0   \n",
      "1      Jay Cutler  CHI    40   29   5  22   0   35  23  372   2   1   1   \n",
      "2   Carson Palmer  CIN    54   26   4   9   0   50  34  345   2   0   1   \n",
      "3     Eli Manning  NYG    34   25   4  -2   0   30  20  263   3   0   3   \n",
      "4       Tom Brady   NE    35   25   0   0   0   35  25  258   3   0   0   \n",
      "\n",
      "  SEASON WEEK         Fullname    ADP  \n",
      "0   2010    1  Manning, Peyton  12.27  \n",
      "1   2010    1      Cutler, Jay  73.34  \n",
      "2   2010    1   Palmer, Carson  79.79  \n",
      "3   2010    1     Manning, Eli  81.71  \n",
      "4   2010    1       Brady, Tom  20.01  \n"
     ]
    }
   ],
   "source": [
    "result['Fullname'] = result['PLAYER'].apply(convert_name_to_lastname_first)\n",
    "\n",
    "adps = []\n",
    "i = 0\n",
    "while i < result.shape[0]:\n",
    "    adps.append(get_adp(result['Fullname'][i], int(result['SEASON'][i])))\n",
    "    i = i +1\n",
    "result[\"ADP\"] = adps\n",
    "print result.head()"
   ]
  }
 ],
 "metadata": {
  "kernelspec": {
   "display_name": "Python 2",
   "language": "python",
   "name": "python2"
  },
  "language_info": {
   "codemirror_mode": {
    "name": "ipython",
    "version": 2
   },
   "file_extension": ".py",
   "mimetype": "text/x-python",
   "name": "python",
   "nbconvert_exporter": "python",
   "pygments_lexer": "ipython2",
   "version": "2.7.11"
  }
 },
 "nbformat": 4,
 "nbformat_minor": 0
}
