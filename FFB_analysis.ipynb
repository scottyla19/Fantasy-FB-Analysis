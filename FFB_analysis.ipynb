{
 "cells": [
  {
   "cell_type": "code",
   "execution_count": 3,
   "metadata": {
    "collapsed": false
   },
   "outputs": [],
   "source": [
    "import pandas as pd\n",
    "import requests\n",
    "from bs4 import BeautifulSoup"
   ]
  },
  {
   "cell_type": "markdown",
   "metadata": {},
   "source": [
    "## Attempt 1: Get ADP data from myfantasyleague.com dev site\n",
    "- +JSON is organized\n",
    "- +Easily accessed\n",
    "- -too much info only really need QB, RB, WR, TE, and D/ST"
   ]
  },
  {
   "cell_type": "code",
   "execution_count": 2,
   "metadata": {
    "collapsed": false
   },
   "outputs": [
    {
     "name": "stdout",
     "output_type": "stream",
     "text": [
      "  averagePick draftsSelectedIn     id maxPick minPick\n",
      "0        3.35            12777  11192     201       1\n",
      "1        5.32            13097  11201     203       1\n",
      "2        5.41            13309   8658     191       1\n",
      "3        5.73            13108   9988     172       1\n",
      "4        6.00            13230   9054     187       1\n"
     ]
    }
   ],
   "source": [
    "response = requests.get('http://football.myfantasyleague.com/2010/export?TYPE=adp&L=&W=&JSON=1')\n",
    "data = response.json()\n",
    "data = data['adp']['player']\n",
    "adp=pd.DataFrame(data)\n",
    "print adp.head()\n"
   ]
  },
  {
   "cell_type": "code",
   "execution_count": 3,
   "metadata": {
    "collapsed": false
   },
   "outputs": [
    {
     "name": "stdout",
     "output_type": "stream",
     "text": [
      "     id                   name position status team\n",
      "0  0151         Bills, Buffalo     TMWR    NaN  BUF\n",
      "1  0152    Colts, Indianapolis     TMWR    NaN  IND\n",
      "2  0153        Dolphins, Miami     TMWR    NaN  MIA\n",
      "3  0154  Patriots, New England     TMWR    NaN  NEP\n",
      "4  0155         Jets, New York     TMWR    NaN  NYJ\n"
     ]
    }
   ],
   "source": [
    "response = requests.get('http://football.myfantasyleague.com/2010/export?TYPE=players&L=&W=&JSON=1')\n",
    "data = response.json()\n",
    "data = data['players']['player']\n",
    "players=pd.DataFrame(data)\n",
    "print players"
   ]
  },
  {
   "cell_type": "code",
   "execution_count": 4,
   "metadata": {
    "collapsed": false
   },
   "outputs": [
    {
     "name": "stdout",
     "output_type": "stream",
     "text": [
      "         id           name position status team\n",
      "1531  11192  Bell, Le'Veon       RB    NaN  PIT\n"
     ]
    }
   ],
   "source": [
    "print players[players['id'] == adp['id'][0]]"
   ]
  },
  {
   "cell_type": "markdown",
   "metadata": {},
   "source": [
    "## Get weekly performance stats starting with 2010\n",
    "- only has top scorers. scrubs and bye week players do not show up\n",
    "- easily scraped and cleaned\n"
   ]
  },
  {
   "cell_type": "code",
   "execution_count": 66,
   "metadata": {
    "collapsed": false
   },
   "outputs": [
    {
     "name": "stdout",
     "output_type": "stream",
     "text": [
      "(3536, 15)\n"
     ]
    }
   ],
   "source": [
    "def get_DF_from_table(season, week):\n",
    "    url = 'http://www.thehuddle.com/stats/%s/plays_weekly.php?week=%s&pos=qb&col=FPTS&ccs=1' % (season, week)\n",
    "    response = requests.get(url)\n",
    "    soup = BeautifulSoup(response.content, 'html.parser')\n",
    "    if not soup:\n",
    "        print season\n",
    "        print week\n",
    "        pass\n",
    "    data = soup.table\n",
    "    head = data.thead.find_all('th')[5:]\n",
    "\n",
    "    headers = []\n",
    "    for th in head:\n",
    "        colname = th.a.text.strip()\n",
    "        headers.append(colname)\n",
    "\n",
    "    rows = data.tbody.find_all('tr')\n",
    "    body = []\n",
    "    for r in rows:\n",
    "        cells = r.find_all('td')\n",
    "        cur_row = []\n",
    "        for c in cells:\n",
    "            cell = c.text.strip()\n",
    "            cur_row.append(cell)\n",
    "        body.append(cur_row)\n",
    "    df2 = pd.DataFrame(body, columns = headers)\n",
    "    df2['SEASON'] = season\n",
    "    df2['WEEK'] = week\n",
    "    return df2\n",
    "\n",
    "seasons = ['2010', '2011', '2012', '2013', '2014', '2015']\n",
    "weeks = ['1','2', '3', '4', '5', '6', '7','8','9','10','11','12','13','14','15','16']\n",
    "frames =[]\n",
    "for s in seasons:\n",
    "    for w in weeks:\n",
    "        frames.append(get_DF_from_table(s, w))\n",
    "        \n",
    "result = pd.concat(frames)\n",
    "print result.shape\n"
   ]
  },
  {
   "cell_type": "code",
   "execution_count": 68,
   "metadata": {
    "collapsed": false
   },
   "outputs": [
    {
     "name": "stdout",
     "output_type": "stream",
     "text": [
      "              PLAYER  NFL PLAYS FPTS RUN RYD RTD PASS CMP PYDS PTD FUM INT  \\\n",
      "37  Tarvaris Jackson  SEA     1   -0   1  -1   0    0   0    0   0   0   0   \n",
      "38    Trevor Siemian  DEN     1   -0   1  -1   0    0   0    0   0   0   0   \n",
      "39    Kellen Clemens   SD     1   -0   1  -1   0    0   0    0   0   0   0   \n",
      "40      Chase Daniel   KC     2   -0   2  -2   0    0   0    0   0   0   0   \n",
      "41      Drew Stanton  ARI     3   -0   2  -2   0    1   0    0   0   0   0   \n",
      "\n",
      "   SEASON WEEK  \n",
      "37   2015   15  \n",
      "38   2015   15  \n",
      "39   2015   15  \n",
      "40   2015   15  \n",
      "41   2015   15  \n"
     ]
    }
   ],
   "source": [
    "print result.tail()"
   ]
  }
 ],
 "metadata": {
  "kernelspec": {
   "display_name": "Python 2",
   "language": "python",
   "name": "python2"
  },
  "language_info": {
   "codemirror_mode": {
    "name": "ipython",
    "version": 2
   },
   "file_extension": ".py",
   "mimetype": "text/x-python",
   "name": "python",
   "nbconvert_exporter": "python",
   "pygments_lexer": "ipython2",
   "version": "2.7.11"
  }
 },
 "nbformat": 4,
 "nbformat_minor": 0
}
